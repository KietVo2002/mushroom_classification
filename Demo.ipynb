{
 "cells": [
  {
   "cell_type": "markdown",
   "id": "fc807ab8",
   "metadata": {
    "papermill": {
     "duration": 0.028419,
     "end_time": "2022-12-01T19:19:16.064017",
     "exception": false,
     "start_time": "2022-12-01T19:19:16.035598",
     "status": "completed"
    },
    "tags": []
   },
   "source": [
    "# **Mushroom classification: Navie Bayes**"
   ]
  },
  {
   "cell_type": "code",
   "execution_count": 1,
   "id": "cc0b960d",
   "metadata": {
    "execution": {
     "iopub.execute_input": "2022-12-01T19:19:16.172709Z",
     "iopub.status.busy": "2022-12-01T19:19:16.172054Z",
     "iopub.status.idle": "2022-12-01T19:19:18.018986Z",
     "shell.execute_reply": "2022-12-01T19:19:18.017319Z"
    },
    "papermill": {
     "duration": 1.881848,
     "end_time": "2022-12-01T19:19:18.022011",
     "exception": false,
     "start_time": "2022-12-01T19:19:16.140163",
     "status": "completed"
    },
    "tags": []
   },
   "outputs": [],
   "source": [
    "import numpy as np \n",
    "import pandas as pd\n",
    "import warnings\n",
    "warnings.simplefilter(\"ignore\")\n",
    "import seaborn as sns\n",
    "import matplotlib.pyplot as plt\n",
    "%matplotlib inline\n",
    "from sklearn.model_selection import train_test_split\n",
    "from sklearn.metrics import classification_report, confusion_matrix, accuracy_score\n",
    "from sklearn.preprocessing import LabelEncoder\n",
    "from sklearn.model_selection import cross_val_score"
   ]
  },
  {
   "cell_type": "code",
   "execution_count": 2,
   "id": "72a0945d",
   "metadata": {
    "execution": {
     "iopub.execute_input": "2022-12-01T19:19:18.072342Z",
     "iopub.status.busy": "2022-12-01T19:19:18.071883Z",
     "iopub.status.idle": "2022-12-01T19:19:18.129764Z",
     "shell.execute_reply": "2022-12-01T19:19:18.128512Z"
    },
    "papermill": {
     "duration": 0.087249,
     "end_time": "2022-12-01T19:19:18.132428",
     "exception": false,
     "start_time": "2022-12-01T19:19:18.045179",
     "status": "completed"
    },
    "tags": []
   },
   "outputs": [],
   "source": [
    "df = pd.read_csv(\"mushrooms.csv\")"
   ]
  },
  {
   "cell_type": "code",
   "execution_count": 3,
   "id": "a831eeb5",
   "metadata": {
    "execution": {
     "iopub.execute_input": "2022-12-01T19:19:18.183614Z",
     "iopub.status.busy": "2022-12-01T19:19:18.183182Z",
     "iopub.status.idle": "2022-12-01T19:19:18.221647Z",
     "shell.execute_reply": "2022-12-01T19:19:18.220314Z"
    },
    "papermill": {
     "duration": 0.068126,
     "end_time": "2022-12-01T19:19:18.224659",
     "exception": false,
     "start_time": "2022-12-01T19:19:18.156533",
     "status": "completed"
    },
    "tags": []
   },
   "outputs": [
    {
     "data": {
      "text/html": [
       "<div>\n",
       "<style scoped>\n",
       "    .dataframe tbody tr th:only-of-type {\n",
       "        vertical-align: middle;\n",
       "    }\n",
       "\n",
       "    .dataframe tbody tr th {\n",
       "        vertical-align: top;\n",
       "    }\n",
       "\n",
       "    .dataframe thead th {\n",
       "        text-align: right;\n",
       "    }\n",
       "</style>\n",
       "<table border=\"1\" class=\"dataframe\">\n",
       "  <thead>\n",
       "    <tr style=\"text-align: right;\">\n",
       "      <th></th>\n",
       "      <th>class</th>\n",
       "      <th>cap-shape</th>\n",
       "      <th>cap-surface</th>\n",
       "      <th>cap-color</th>\n",
       "      <th>bruises</th>\n",
       "      <th>odor</th>\n",
       "      <th>gill-attachment</th>\n",
       "      <th>gill-spacing</th>\n",
       "      <th>gill-size</th>\n",
       "      <th>gill-color</th>\n",
       "      <th>...</th>\n",
       "      <th>stalk-surface-below-ring</th>\n",
       "      <th>stalk-color-above-ring</th>\n",
       "      <th>stalk-color-below-ring</th>\n",
       "      <th>veil-type</th>\n",
       "      <th>veil-color</th>\n",
       "      <th>ring-number</th>\n",
       "      <th>ring-type</th>\n",
       "      <th>spore-print-color</th>\n",
       "      <th>population</th>\n",
       "      <th>habitat</th>\n",
       "    </tr>\n",
       "  </thead>\n",
       "  <tbody>\n",
       "    <tr>\n",
       "      <th>0</th>\n",
       "      <td>p</td>\n",
       "      <td>x</td>\n",
       "      <td>s</td>\n",
       "      <td>n</td>\n",
       "      <td>t</td>\n",
       "      <td>p</td>\n",
       "      <td>f</td>\n",
       "      <td>c</td>\n",
       "      <td>n</td>\n",
       "      <td>k</td>\n",
       "      <td>...</td>\n",
       "      <td>s</td>\n",
       "      <td>w</td>\n",
       "      <td>w</td>\n",
       "      <td>p</td>\n",
       "      <td>w</td>\n",
       "      <td>o</td>\n",
       "      <td>p</td>\n",
       "      <td>k</td>\n",
       "      <td>s</td>\n",
       "      <td>u</td>\n",
       "    </tr>\n",
       "    <tr>\n",
       "      <th>1</th>\n",
       "      <td>e</td>\n",
       "      <td>x</td>\n",
       "      <td>s</td>\n",
       "      <td>y</td>\n",
       "      <td>t</td>\n",
       "      <td>a</td>\n",
       "      <td>f</td>\n",
       "      <td>c</td>\n",
       "      <td>b</td>\n",
       "      <td>k</td>\n",
       "      <td>...</td>\n",
       "      <td>s</td>\n",
       "      <td>w</td>\n",
       "      <td>w</td>\n",
       "      <td>p</td>\n",
       "      <td>w</td>\n",
       "      <td>o</td>\n",
       "      <td>p</td>\n",
       "      <td>n</td>\n",
       "      <td>n</td>\n",
       "      <td>g</td>\n",
       "    </tr>\n",
       "    <tr>\n",
       "      <th>2</th>\n",
       "      <td>e</td>\n",
       "      <td>b</td>\n",
       "      <td>s</td>\n",
       "      <td>w</td>\n",
       "      <td>t</td>\n",
       "      <td>l</td>\n",
       "      <td>f</td>\n",
       "      <td>c</td>\n",
       "      <td>b</td>\n",
       "      <td>n</td>\n",
       "      <td>...</td>\n",
       "      <td>s</td>\n",
       "      <td>w</td>\n",
       "      <td>w</td>\n",
       "      <td>p</td>\n",
       "      <td>w</td>\n",
       "      <td>o</td>\n",
       "      <td>p</td>\n",
       "      <td>n</td>\n",
       "      <td>n</td>\n",
       "      <td>m</td>\n",
       "    </tr>\n",
       "    <tr>\n",
       "      <th>3</th>\n",
       "      <td>p</td>\n",
       "      <td>x</td>\n",
       "      <td>y</td>\n",
       "      <td>w</td>\n",
       "      <td>t</td>\n",
       "      <td>p</td>\n",
       "      <td>f</td>\n",
       "      <td>c</td>\n",
       "      <td>n</td>\n",
       "      <td>n</td>\n",
       "      <td>...</td>\n",
       "      <td>s</td>\n",
       "      <td>w</td>\n",
       "      <td>w</td>\n",
       "      <td>p</td>\n",
       "      <td>w</td>\n",
       "      <td>o</td>\n",
       "      <td>p</td>\n",
       "      <td>k</td>\n",
       "      <td>s</td>\n",
       "      <td>u</td>\n",
       "    </tr>\n",
       "    <tr>\n",
       "      <th>4</th>\n",
       "      <td>e</td>\n",
       "      <td>x</td>\n",
       "      <td>s</td>\n",
       "      <td>g</td>\n",
       "      <td>f</td>\n",
       "      <td>n</td>\n",
       "      <td>f</td>\n",
       "      <td>w</td>\n",
       "      <td>b</td>\n",
       "      <td>k</td>\n",
       "      <td>...</td>\n",
       "      <td>s</td>\n",
       "      <td>w</td>\n",
       "      <td>w</td>\n",
       "      <td>p</td>\n",
       "      <td>w</td>\n",
       "      <td>o</td>\n",
       "      <td>e</td>\n",
       "      <td>n</td>\n",
       "      <td>a</td>\n",
       "      <td>g</td>\n",
       "    </tr>\n",
       "  </tbody>\n",
       "</table>\n",
       "<p>5 rows × 23 columns</p>\n",
       "</div>"
      ],
      "text/plain": [
       "  class cap-shape cap-surface cap-color bruises odor gill-attachment  \\\n",
       "0     p         x           s         n       t    p               f   \n",
       "1     e         x           s         y       t    a               f   \n",
       "2     e         b           s         w       t    l               f   \n",
       "3     p         x           y         w       t    p               f   \n",
       "4     e         x           s         g       f    n               f   \n",
       "\n",
       "  gill-spacing gill-size gill-color  ... stalk-surface-below-ring  \\\n",
       "0            c         n          k  ...                        s   \n",
       "1            c         b          k  ...                        s   \n",
       "2            c         b          n  ...                        s   \n",
       "3            c         n          n  ...                        s   \n",
       "4            w         b          k  ...                        s   \n",
       "\n",
       "  stalk-color-above-ring stalk-color-below-ring veil-type veil-color  \\\n",
       "0                      w                      w         p          w   \n",
       "1                      w                      w         p          w   \n",
       "2                      w                      w         p          w   \n",
       "3                      w                      w         p          w   \n",
       "4                      w                      w         p          w   \n",
       "\n",
       "  ring-number ring-type spore-print-color population habitat  \n",
       "0           o         p                 k          s       u  \n",
       "1           o         p                 n          n       g  \n",
       "2           o         p                 n          n       m  \n",
       "3           o         p                 k          s       u  \n",
       "4           o         e                 n          a       g  \n",
       "\n",
       "[5 rows x 23 columns]"
      ]
     },
     "execution_count": 3,
     "metadata": {},
     "output_type": "execute_result"
    }
   ],
   "source": [
    "#Trả vê giá về các hàng của Dataset ở đây mặc định là 5 hàng trên cùng #\n",
    "df.head()"
   ]
  },
  {
   "cell_type": "code",
   "execution_count": 4,
   "id": "070b11c4",
   "metadata": {
    "execution": {
     "iopub.execute_input": "2022-12-01T19:19:18.274858Z",
     "iopub.status.busy": "2022-12-01T19:19:18.274421Z",
     "iopub.status.idle": "2022-12-01T19:19:18.293534Z",
     "shell.execute_reply": "2022-12-01T19:19:18.292594Z"
    },
    "papermill": {
     "duration": 0.047705,
     "end_time": "2022-12-01T19:19:18.295718",
     "exception": false,
     "start_time": "2022-12-01T19:19:18.248013",
     "status": "completed"
    },
    "tags": []
   },
   "outputs": [
    {
     "data": {
      "text/plain": [
       "class                       0\n",
       "cap-shape                   0\n",
       "cap-surface                 0\n",
       "cap-color                   0\n",
       "bruises                     0\n",
       "odor                        0\n",
       "gill-attachment             0\n",
       "gill-spacing                0\n",
       "gill-size                   0\n",
       "gill-color                  0\n",
       "stalk-shape                 0\n",
       "stalk-root                  0\n",
       "stalk-surface-above-ring    0\n",
       "stalk-surface-below-ring    0\n",
       "stalk-color-above-ring      0\n",
       "stalk-color-below-ring      0\n",
       "veil-type                   0\n",
       "veil-color                  0\n",
       "ring-number                 0\n",
       "ring-type                   0\n",
       "spore-print-color           0\n",
       "population                  0\n",
       "habitat                     0\n",
       "dtype: int64"
      ]
     },
     "execution_count": 4,
     "metadata": {},
     "output_type": "execute_result"
    }
   ],
   "source": [
    "#Kiểm tra xem các cột có cột nào có giá trị là Null hay không #\n",
    "df.isnull().sum()"
   ]
  },
  {
   "cell_type": "code",
   "execution_count": 5,
   "id": "c72d93a8",
   "metadata": {
    "execution": {
     "iopub.execute_input": "2022-12-01T19:19:18.675460Z",
     "iopub.status.busy": "2022-12-01T19:19:18.674685Z",
     "iopub.status.idle": "2022-12-01T19:19:18.687565Z",
     "shell.execute_reply": "2022-12-01T19:19:18.685590Z"
    },
    "papermill": {
     "duration": 0.043888,
     "end_time": "2022-12-01T19:19:18.690185",
     "exception": false,
     "start_time": "2022-12-01T19:19:18.646297",
     "status": "completed"
    },
    "tags": []
   },
   "outputs": [
    {
     "data": {
      "text/plain": [
       "e    4208\n",
       "p    3916\n",
       "Name: class, dtype: int64"
      ]
     },
     "execution_count": 5,
     "metadata": {},
     "output_type": "execute_result"
    }
   ],
   "source": [
    "#Trả về một Chuỗi class chứa số lượng các giá trị duy nhất để kiểm tra, phân loại class có thuộc tính là e và p ra #\n",
    "df['class'].value_counts()"
   ]
  },
  {
   "cell_type": "code",
   "execution_count": 6,
   "id": "80cf2c9a",
   "metadata": {
    "execution": {
     "iopub.execute_input": "2022-12-01T19:19:18.744502Z",
     "iopub.status.busy": "2022-12-01T19:19:18.743056Z",
     "iopub.status.idle": "2022-12-01T19:19:18.752451Z",
     "shell.execute_reply": "2022-12-01T19:19:18.751476Z"
    },
    "papermill": {
     "duration": 0.041059,
     "end_time": "2022-12-01T19:19:18.755240",
     "exception": false,
     "start_time": "2022-12-01T19:19:18.714181",
     "status": "completed"
    },
    "tags": []
   },
   "outputs": [
    {
     "data": {
      "text/plain": [
       "(8124, 23)"
      ]
     },
     "execution_count": 6,
     "metadata": {},
     "output_type": "execute_result"
    }
   ],
   "source": [
    "#.Shape là trả về hình dạng của Data (DataFame)#\n",
    "df.shape"
   ]
  },
  {
   "cell_type": "code",
   "execution_count": 7,
   "id": "95993790",
   "metadata": {
    "execution": {
     "iopub.execute_input": "2022-12-01T19:19:18.810085Z",
     "iopub.status.busy": "2022-12-01T19:19:18.809532Z",
     "iopub.status.idle": "2022-12-01T19:19:18.843384Z",
     "shell.execute_reply": "2022-12-01T19:19:18.842147Z"
    },
    "papermill": {
     "duration": 0.065853,
     "end_time": "2022-12-01T19:19:18.846389",
     "exception": false,
     "start_time": "2022-12-01T19:19:18.780536",
     "status": "completed"
    },
    "tags": []
   },
   "outputs": [
    {
     "data": {
      "text/html": [
       "<div>\n",
       "<style scoped>\n",
       "    .dataframe tbody tr th:only-of-type {\n",
       "        vertical-align: middle;\n",
       "    }\n",
       "\n",
       "    .dataframe tbody tr th {\n",
       "        vertical-align: top;\n",
       "    }\n",
       "\n",
       "    .dataframe thead th {\n",
       "        text-align: right;\n",
       "    }\n",
       "</style>\n",
       "<table border=\"1\" class=\"dataframe\">\n",
       "  <thead>\n",
       "    <tr style=\"text-align: right;\">\n",
       "      <th></th>\n",
       "      <th>cap-shape</th>\n",
       "      <th>cap-surface</th>\n",
       "      <th>cap-color</th>\n",
       "      <th>bruises</th>\n",
       "      <th>odor</th>\n",
       "      <th>gill-attachment</th>\n",
       "      <th>gill-spacing</th>\n",
       "      <th>gill-size</th>\n",
       "      <th>gill-color</th>\n",
       "      <th>stalk-shape</th>\n",
       "      <th>...</th>\n",
       "      <th>stalk-surface-below-ring</th>\n",
       "      <th>stalk-color-above-ring</th>\n",
       "      <th>stalk-color-below-ring</th>\n",
       "      <th>veil-type</th>\n",
       "      <th>veil-color</th>\n",
       "      <th>ring-number</th>\n",
       "      <th>ring-type</th>\n",
       "      <th>spore-print-color</th>\n",
       "      <th>population</th>\n",
       "      <th>habitat</th>\n",
       "    </tr>\n",
       "  </thead>\n",
       "  <tbody>\n",
       "    <tr>\n",
       "      <th>0</th>\n",
       "      <td>x</td>\n",
       "      <td>s</td>\n",
       "      <td>n</td>\n",
       "      <td>t</td>\n",
       "      <td>p</td>\n",
       "      <td>f</td>\n",
       "      <td>c</td>\n",
       "      <td>n</td>\n",
       "      <td>k</td>\n",
       "      <td>e</td>\n",
       "      <td>...</td>\n",
       "      <td>s</td>\n",
       "      <td>w</td>\n",
       "      <td>w</td>\n",
       "      <td>p</td>\n",
       "      <td>w</td>\n",
       "      <td>o</td>\n",
       "      <td>p</td>\n",
       "      <td>k</td>\n",
       "      <td>s</td>\n",
       "      <td>u</td>\n",
       "    </tr>\n",
       "    <tr>\n",
       "      <th>1</th>\n",
       "      <td>x</td>\n",
       "      <td>s</td>\n",
       "      <td>y</td>\n",
       "      <td>t</td>\n",
       "      <td>a</td>\n",
       "      <td>f</td>\n",
       "      <td>c</td>\n",
       "      <td>b</td>\n",
       "      <td>k</td>\n",
       "      <td>e</td>\n",
       "      <td>...</td>\n",
       "      <td>s</td>\n",
       "      <td>w</td>\n",
       "      <td>w</td>\n",
       "      <td>p</td>\n",
       "      <td>w</td>\n",
       "      <td>o</td>\n",
       "      <td>p</td>\n",
       "      <td>n</td>\n",
       "      <td>n</td>\n",
       "      <td>g</td>\n",
       "    </tr>\n",
       "    <tr>\n",
       "      <th>2</th>\n",
       "      <td>b</td>\n",
       "      <td>s</td>\n",
       "      <td>w</td>\n",
       "      <td>t</td>\n",
       "      <td>l</td>\n",
       "      <td>f</td>\n",
       "      <td>c</td>\n",
       "      <td>b</td>\n",
       "      <td>n</td>\n",
       "      <td>e</td>\n",
       "      <td>...</td>\n",
       "      <td>s</td>\n",
       "      <td>w</td>\n",
       "      <td>w</td>\n",
       "      <td>p</td>\n",
       "      <td>w</td>\n",
       "      <td>o</td>\n",
       "      <td>p</td>\n",
       "      <td>n</td>\n",
       "      <td>n</td>\n",
       "      <td>m</td>\n",
       "    </tr>\n",
       "    <tr>\n",
       "      <th>3</th>\n",
       "      <td>x</td>\n",
       "      <td>y</td>\n",
       "      <td>w</td>\n",
       "      <td>t</td>\n",
       "      <td>p</td>\n",
       "      <td>f</td>\n",
       "      <td>c</td>\n",
       "      <td>n</td>\n",
       "      <td>n</td>\n",
       "      <td>e</td>\n",
       "      <td>...</td>\n",
       "      <td>s</td>\n",
       "      <td>w</td>\n",
       "      <td>w</td>\n",
       "      <td>p</td>\n",
       "      <td>w</td>\n",
       "      <td>o</td>\n",
       "      <td>p</td>\n",
       "      <td>k</td>\n",
       "      <td>s</td>\n",
       "      <td>u</td>\n",
       "    </tr>\n",
       "    <tr>\n",
       "      <th>4</th>\n",
       "      <td>x</td>\n",
       "      <td>s</td>\n",
       "      <td>g</td>\n",
       "      <td>f</td>\n",
       "      <td>n</td>\n",
       "      <td>f</td>\n",
       "      <td>w</td>\n",
       "      <td>b</td>\n",
       "      <td>k</td>\n",
       "      <td>t</td>\n",
       "      <td>...</td>\n",
       "      <td>s</td>\n",
       "      <td>w</td>\n",
       "      <td>w</td>\n",
       "      <td>p</td>\n",
       "      <td>w</td>\n",
       "      <td>o</td>\n",
       "      <td>e</td>\n",
       "      <td>n</td>\n",
       "      <td>a</td>\n",
       "      <td>g</td>\n",
       "    </tr>\n",
       "  </tbody>\n",
       "</table>\n",
       "<p>5 rows × 22 columns</p>\n",
       "</div>"
      ],
      "text/plain": [
       "  cap-shape cap-surface cap-color bruises odor gill-attachment gill-spacing  \\\n",
       "0         x           s         n       t    p               f            c   \n",
       "1         x           s         y       t    a               f            c   \n",
       "2         b           s         w       t    l               f            c   \n",
       "3         x           y         w       t    p               f            c   \n",
       "4         x           s         g       f    n               f            w   \n",
       "\n",
       "  gill-size gill-color stalk-shape  ... stalk-surface-below-ring  \\\n",
       "0         n          k           e  ...                        s   \n",
       "1         b          k           e  ...                        s   \n",
       "2         b          n           e  ...                        s   \n",
       "3         n          n           e  ...                        s   \n",
       "4         b          k           t  ...                        s   \n",
       "\n",
       "  stalk-color-above-ring stalk-color-below-ring veil-type veil-color  \\\n",
       "0                      w                      w         p          w   \n",
       "1                      w                      w         p          w   \n",
       "2                      w                      w         p          w   \n",
       "3                      w                      w         p          w   \n",
       "4                      w                      w         p          w   \n",
       "\n",
       "  ring-number ring-type spore-print-color population habitat  \n",
       "0           o         p                 k          s       u  \n",
       "1           o         p                 n          n       g  \n",
       "2           o         p                 n          n       m  \n",
       "3           o         p                 k          s       u  \n",
       "4           o         e                 n          a       g  \n",
       "\n",
       "[5 rows x 22 columns]"
      ]
     },
     "execution_count": 7,
     "metadata": {},
     "output_type": "execute_result"
    }
   ],
   "source": [
    "# Tách mục tiêu và tính năng của chúng , xóa cột Class, axis = 1 có nghĩa là cột # \n",
    "X = df.drop(['class'], axis=1)  \n",
    "y = df[\"class\"]\n",
    "\n",
    "X.head()\n"
   ]
  },
  {
   "cell_type": "code",
   "execution_count": 8,
   "id": "16168507",
   "metadata": {
    "execution": {
     "iopub.execute_input": "2022-12-01T19:19:18.899167Z",
     "iopub.status.busy": "2022-12-01T19:19:18.898693Z",
     "iopub.status.idle": "2022-12-01T19:19:18.984698Z",
     "shell.execute_reply": "2022-12-01T19:19:18.983187Z"
    },
    "papermill": {
     "duration": 0.117078,
     "end_time": "2022-12-01T19:19:18.988317",
     "exception": false,
     "start_time": "2022-12-01T19:19:18.871239",
     "status": "completed"
    },
    "tags": []
   },
   "outputs": [],
   "source": [
    " # Sử dung LabaEncoder của sklearn để mã hóa các giá trị #\n",
    "labelencoder_x=LabelEncoder()\n",
    "# dùng vòng lặp for cho cột X để mã hóa cột X và trả về giá trị đã mã hóa #\n",
    "for column in X.columns:\n",
    "    X[column] = labelencoder_x.fit_transform(X[column])\n",
    "#Mã hóa cột Y và trả về giá trị đã mã hóa của Y #    \n",
    "labelencoder_y=LabelEncoder()\n",
    "y = labelencoder_y.fit_transform(y)\n"
   ]
  },
  {
   "cell_type": "code",
   "execution_count": 9,
   "id": "6b6c8655",
   "metadata": {
    "execution": {
     "iopub.execute_input": "2022-12-01T19:19:19.117239Z",
     "iopub.status.busy": "2022-12-01T19:19:19.116726Z",
     "iopub.status.idle": "2022-12-01T19:19:19.125785Z",
     "shell.execute_reply": "2022-12-01T19:19:19.123959Z"
    },
    "papermill": {
     "duration": 0.037906,
     "end_time": "2022-12-01T19:19:19.128414",
     "exception": false,
     "start_time": "2022-12-01T19:19:19.090508",
     "status": "completed"
    },
    "tags": []
   },
   "outputs": [
    {
     "data": {
      "text/plain": [
       "array([1, 0, 0, ..., 0, 1, 0])"
      ]
     },
     "execution_count": 9,
     "metadata": {},
     "output_type": "execute_result"
    }
   ],
   "source": [
    "# Mảng giá trị của Y#\n",
    "y"
   ]
  },
  {
   "cell_type": "code",
   "execution_count": 10,
   "id": "f1feec50",
   "metadata": {
    "execution": {
     "iopub.execute_input": "2022-12-01T19:19:19.180309Z",
     "iopub.status.busy": "2022-12-01T19:19:19.179874Z",
     "iopub.status.idle": "2022-12-01T19:19:19.229765Z",
     "shell.execute_reply": "2022-12-01T19:19:19.228275Z"
    },
    "papermill": {
     "duration": 0.078494,
     "end_time": "2022-12-01T19:19:19.232148",
     "exception": false,
     "start_time": "2022-12-01T19:19:19.153654",
     "status": "completed"
    },
    "tags": []
   },
   "outputs": [
    {
     "data": {
      "text/html": [
       "<div>\n",
       "<style scoped>\n",
       "    .dataframe tbody tr th:only-of-type {\n",
       "        vertical-align: middle;\n",
       "    }\n",
       "\n",
       "    .dataframe tbody tr th {\n",
       "        vertical-align: top;\n",
       "    }\n",
       "\n",
       "    .dataframe thead th {\n",
       "        text-align: right;\n",
       "    }\n",
       "</style>\n",
       "<table border=\"1\" class=\"dataframe\">\n",
       "  <thead>\n",
       "    <tr style=\"text-align: right;\">\n",
       "      <th></th>\n",
       "      <th>cap-shape_1</th>\n",
       "      <th>cap-shape_2</th>\n",
       "      <th>cap-shape_3</th>\n",
       "      <th>cap-shape_4</th>\n",
       "      <th>cap-shape_5</th>\n",
       "      <th>cap-surface_1</th>\n",
       "      <th>cap-surface_2</th>\n",
       "      <th>cap-surface_3</th>\n",
       "      <th>cap-color_1</th>\n",
       "      <th>cap-color_2</th>\n",
       "      <th>...</th>\n",
       "      <th>population_2</th>\n",
       "      <th>population_3</th>\n",
       "      <th>population_4</th>\n",
       "      <th>population_5</th>\n",
       "      <th>habitat_1</th>\n",
       "      <th>habitat_2</th>\n",
       "      <th>habitat_3</th>\n",
       "      <th>habitat_4</th>\n",
       "      <th>habitat_5</th>\n",
       "      <th>habitat_6</th>\n",
       "    </tr>\n",
       "  </thead>\n",
       "  <tbody>\n",
       "    <tr>\n",
       "      <th>0</th>\n",
       "      <td>0</td>\n",
       "      <td>0</td>\n",
       "      <td>0</td>\n",
       "      <td>0</td>\n",
       "      <td>1</td>\n",
       "      <td>0</td>\n",
       "      <td>1</td>\n",
       "      <td>0</td>\n",
       "      <td>0</td>\n",
       "      <td>0</td>\n",
       "      <td>...</td>\n",
       "      <td>0</td>\n",
       "      <td>1</td>\n",
       "      <td>0</td>\n",
       "      <td>0</td>\n",
       "      <td>0</td>\n",
       "      <td>0</td>\n",
       "      <td>0</td>\n",
       "      <td>0</td>\n",
       "      <td>1</td>\n",
       "      <td>0</td>\n",
       "    </tr>\n",
       "    <tr>\n",
       "      <th>1</th>\n",
       "      <td>0</td>\n",
       "      <td>0</td>\n",
       "      <td>0</td>\n",
       "      <td>0</td>\n",
       "      <td>1</td>\n",
       "      <td>0</td>\n",
       "      <td>1</td>\n",
       "      <td>0</td>\n",
       "      <td>0</td>\n",
       "      <td>0</td>\n",
       "      <td>...</td>\n",
       "      <td>1</td>\n",
       "      <td>0</td>\n",
       "      <td>0</td>\n",
       "      <td>0</td>\n",
       "      <td>1</td>\n",
       "      <td>0</td>\n",
       "      <td>0</td>\n",
       "      <td>0</td>\n",
       "      <td>0</td>\n",
       "      <td>0</td>\n",
       "    </tr>\n",
       "    <tr>\n",
       "      <th>2</th>\n",
       "      <td>0</td>\n",
       "      <td>0</td>\n",
       "      <td>0</td>\n",
       "      <td>0</td>\n",
       "      <td>0</td>\n",
       "      <td>0</td>\n",
       "      <td>1</td>\n",
       "      <td>0</td>\n",
       "      <td>0</td>\n",
       "      <td>0</td>\n",
       "      <td>...</td>\n",
       "      <td>1</td>\n",
       "      <td>0</td>\n",
       "      <td>0</td>\n",
       "      <td>0</td>\n",
       "      <td>0</td>\n",
       "      <td>0</td>\n",
       "      <td>1</td>\n",
       "      <td>0</td>\n",
       "      <td>0</td>\n",
       "      <td>0</td>\n",
       "    </tr>\n",
       "    <tr>\n",
       "      <th>3</th>\n",
       "      <td>0</td>\n",
       "      <td>0</td>\n",
       "      <td>0</td>\n",
       "      <td>0</td>\n",
       "      <td>1</td>\n",
       "      <td>0</td>\n",
       "      <td>0</td>\n",
       "      <td>1</td>\n",
       "      <td>0</td>\n",
       "      <td>0</td>\n",
       "      <td>...</td>\n",
       "      <td>0</td>\n",
       "      <td>1</td>\n",
       "      <td>0</td>\n",
       "      <td>0</td>\n",
       "      <td>0</td>\n",
       "      <td>0</td>\n",
       "      <td>0</td>\n",
       "      <td>0</td>\n",
       "      <td>1</td>\n",
       "      <td>0</td>\n",
       "    </tr>\n",
       "    <tr>\n",
       "      <th>4</th>\n",
       "      <td>0</td>\n",
       "      <td>0</td>\n",
       "      <td>0</td>\n",
       "      <td>0</td>\n",
       "      <td>1</td>\n",
       "      <td>0</td>\n",
       "      <td>1</td>\n",
       "      <td>0</td>\n",
       "      <td>0</td>\n",
       "      <td>0</td>\n",
       "      <td>...</td>\n",
       "      <td>0</td>\n",
       "      <td>0</td>\n",
       "      <td>0</td>\n",
       "      <td>0</td>\n",
       "      <td>1</td>\n",
       "      <td>0</td>\n",
       "      <td>0</td>\n",
       "      <td>0</td>\n",
       "      <td>0</td>\n",
       "      <td>0</td>\n",
       "    </tr>\n",
       "  </tbody>\n",
       "</table>\n",
       "<p>5 rows × 95 columns</p>\n",
       "</div>"
      ],
      "text/plain": [
       "   cap-shape_1  cap-shape_2  cap-shape_3  cap-shape_4  cap-shape_5  \\\n",
       "0            0            0            0            0            1   \n",
       "1            0            0            0            0            1   \n",
       "2            0            0            0            0            0   \n",
       "3            0            0            0            0            1   \n",
       "4            0            0            0            0            1   \n",
       "\n",
       "   cap-surface_1  cap-surface_2  cap-surface_3  cap-color_1  cap-color_2  ...  \\\n",
       "0              0              1              0            0            0  ...   \n",
       "1              0              1              0            0            0  ...   \n",
       "2              0              1              0            0            0  ...   \n",
       "3              0              0              1            0            0  ...   \n",
       "4              0              1              0            0            0  ...   \n",
       "\n",
       "   population_2  population_3  population_4  population_5  habitat_1  \\\n",
       "0             0             1             0             0          0   \n",
       "1             1             0             0             0          1   \n",
       "2             1             0             0             0          0   \n",
       "3             0             1             0             0          0   \n",
       "4             0             0             0             0          1   \n",
       "\n",
       "   habitat_2  habitat_3  habitat_4  habitat_5  habitat_6  \n",
       "0          0          0          0          1          0  \n",
       "1          0          0          0          0          0  \n",
       "2          0          1          0          0          0  \n",
       "3          0          0          0          1          0  \n",
       "4          0          0          0          0          0  \n",
       "\n",
       "[5 rows x 95 columns]"
      ]
     },
     "execution_count": 10,
     "metadata": {},
     "output_type": "execute_result"
    }
   ],
   "source": [
    "#Gắn X của dataFame cho Module của thư để mã hóa cột X #\n",
    "X=pd.get_dummies(X,columns=X.columns,drop_first=True)\n",
    "X.head()"
   ]
  },
  {
   "cell_type": "code",
   "execution_count": 11,
   "id": "efb211c9",
   "metadata": {
    "execution": {
     "iopub.execute_input": "2022-12-01T19:19:19.286029Z",
     "iopub.status.busy": "2022-12-01T19:19:19.285619Z",
     "iopub.status.idle": "2022-12-01T19:19:21.022468Z",
     "shell.execute_reply": "2022-12-01T19:19:21.021622Z"
    },
    "papermill": {
     "duration": 1.76904,
     "end_time": "2022-12-01T19:19:21.026045",
     "exception": false,
     "start_time": "2022-12-01T19:19:19.257005",
     "status": "completed"
    },
    "tags": []
   },
   "outputs": [
    {
     "data": {
      "text/plain": [
       "(array([ 0.5,  2.5,  4.5,  6.5,  8.5, 10.5, 12.5, 14.5, 16.5, 18.5, 20.5,\n",
       "        22.5, 24.5, 26.5, 28.5, 30.5, 32.5, 34.5, 36.5, 38.5, 40.5, 42.5,\n",
       "        44.5, 46.5, 48.5, 50.5, 52.5, 54.5, 56.5, 58.5, 60.5, 62.5, 64.5,\n",
       "        66.5, 68.5, 70.5, 72.5, 74.5, 76.5, 78.5, 80.5, 82.5, 84.5, 86.5,\n",
       "        88.5, 90.5, 92.5, 94.5]),\n",
       " [Text(0, 0.5, 'cap-shape_1'),\n",
       "  Text(0, 2.5, 'cap-shape_3'),\n",
       "  Text(0, 4.5, 'cap-shape_5'),\n",
       "  Text(0, 6.5, 'cap-surface_2'),\n",
       "  Text(0, 8.5, 'cap-color_1'),\n",
       "  Text(0, 10.5, 'cap-color_3'),\n",
       "  Text(0, 12.5, 'cap-color_5'),\n",
       "  Text(0, 14.5, 'cap-color_7'),\n",
       "  Text(0, 16.5, 'cap-color_9'),\n",
       "  Text(0, 18.5, 'odor_1'),\n",
       "  Text(0, 20.5, 'odor_3'),\n",
       "  Text(0, 22.5, 'odor_5'),\n",
       "  Text(0, 24.5, 'odor_7'),\n",
       "  Text(0, 26.5, 'gill-attachment_1'),\n",
       "  Text(0, 28.5, 'gill-size_1'),\n",
       "  Text(0, 30.5, 'gill-color_2'),\n",
       "  Text(0, 32.5, 'gill-color_4'),\n",
       "  Text(0, 34.5, 'gill-color_6'),\n",
       "  Text(0, 36.5, 'gill-color_8'),\n",
       "  Text(0, 38.5, 'gill-color_10'),\n",
       "  Text(0, 40.5, 'stalk-shape_1'),\n",
       "  Text(0, 42.5, 'stalk-root_2'),\n",
       "  Text(0, 44.5, 'stalk-root_4'),\n",
       "  Text(0, 46.5, 'stalk-surface-above-ring_2'),\n",
       "  Text(0, 48.5, 'stalk-surface-below-ring_1'),\n",
       "  Text(0, 50.5, 'stalk-surface-below-ring_3'),\n",
       "  Text(0, 52.5, 'stalk-color-above-ring_2'),\n",
       "  Text(0, 54.5, 'stalk-color-above-ring_4'),\n",
       "  Text(0, 56.5, 'stalk-color-above-ring_6'),\n",
       "  Text(0, 58.5, 'stalk-color-above-ring_8'),\n",
       "  Text(0, 60.5, 'stalk-color-below-ring_2'),\n",
       "  Text(0, 62.5, 'stalk-color-below-ring_4'),\n",
       "  Text(0, 64.5, 'stalk-color-below-ring_6'),\n",
       "  Text(0, 66.5, 'stalk-color-below-ring_8'),\n",
       "  Text(0, 68.5, 'veil-color_2'),\n",
       "  Text(0, 70.5, 'ring-number_1'),\n",
       "  Text(0, 72.5, 'ring-type_1'),\n",
       "  Text(0, 74.5, 'ring-type_3'),\n",
       "  Text(0, 76.5, 'spore-print-color_1'),\n",
       "  Text(0, 78.5, 'spore-print-color_3'),\n",
       "  Text(0, 80.5, 'spore-print-color_5'),\n",
       "  Text(0, 82.5, 'spore-print-color_7'),\n",
       "  Text(0, 84.5, 'population_1'),\n",
       "  Text(0, 86.5, 'population_3'),\n",
       "  Text(0, 88.5, 'population_5'),\n",
       "  Text(0, 90.5, 'habitat_2'),\n",
       "  Text(0, 92.5, 'habitat_4'),\n",
       "  Text(0, 94.5, 'habitat_6')])"
      ]
     },
     "execution_count": 11,
     "metadata": {},
     "output_type": "execute_result"
    },
    {
     "data": {
      "image/png": "[encoded data removed]",
      "text/plain": [
       "<Figure size 1152x864 with 2 Axes>"
      ]
     },
     "metadata": {
      "needs_background": "light"
     },
     "output_type": "display_data"
    }
   ],
   "source": [
    "# Sử dụng plt trong thư viện Matplotlib để các tham số này là chiều rộng, chiều cao cho biểu Đồ #\n",
    "plt.figure(figsize=(16,12))\n",
    "#Sử dụng Module của biểu đồ HeatMap có linewidthhs là chiều rộng các ô  là 0 và  matplotlib colormap(cmap) màu sắc là Purples #\n",
    "sns.heatmap(X.corr(),linewidths=.0,cmap=\"Purples\")\n",
    "#Sử dụng plt trong thư viện Matplotlib ,có nhãn các thuộc tính trục y độ xoay (rotation) là 0 độ # \n",
    "plt.yticks(rotation=0)\n",
    "#plt.savefig(\"corr2.jpeg\", format='jpeg', dpi=300, bbox_inches='tight')"
   ]
  },
  {
   "cell_type": "code",
   "execution_count": 12,
   "id": "8880a984",
   "metadata": {
    "execution": {
     "iopub.execute_input": "2022-12-01T19:19:21.085167Z",
     "iopub.status.busy": "2022-12-01T19:19:21.084117Z",
     "iopub.status.idle": "2022-12-01T19:19:21.100133Z",
     "shell.execute_reply": "2022-12-01T19:19:21.097963Z"
    },
    "papermill": {
     "duration": 0.0497,
     "end_time": "2022-12-01T19:19:21.103252",
     "exception": false,
     "start_time": "2022-12-01T19:19:21.053552",
     "status": "completed"
    },
    "tags": []
   },
   "outputs": [],
   "source": [
    "# Tiến hành tách tập dữ liệu với Train_test_split với tỷ lệ là 30% cho Test và 70% cho Training#\n",
    "X_train, X_test, y_train, y_test = train_test_split(X, y, test_size=0.3, random_state=42)"
   ]
  },
  {
   "cell_type": "code",
   "execution_count": 13,
   "id": "2bffe63d",
   "metadata": {
    "execution": {
     "iopub.execute_input": "2022-12-01T19:19:21.161040Z",
     "iopub.status.busy": "2022-12-01T19:19:21.160286Z",
     "iopub.status.idle": "2022-12-01T19:19:21.199412Z",
     "shell.execute_reply": "2022-12-01T19:19:21.198178Z"
    },
    "papermill": {
     "duration": 0.071658,
     "end_time": "2022-12-01T19:19:21.202045",
     "exception": false,
     "start_time": "2022-12-01T19:19:21.130387",
     "status": "completed"
    },
    "tags": []
   },
   "outputs": [],
   "source": [
    "# Từ thư viện sklearn gọi StandardScaler dùng để chuẩn hóa các tính năng bằng cách loại bỏ giá trị trung bình và chia tỷ lệ theo phương sai đơn vị\n",
    "from sklearn.preprocessing import StandardScaler\n",
    "#Tạo đối tượng Sc cho hàm StandarScaler#\n",
    "sc = StandardScaler()\n",
    "#Dữ liệu X_Train sẽ được sử dụng để tính giá trị trung bình và độ lệch chuẩn \n",
    "sc.fit(X_train)\n",
    "# Gắn X2 cho sc đểPhù hợp với dữ liệu, sau đó chuyển đổi X\n",
    "X2 = sc.fit_transform(X)\n",
    "# Chuyển đổi X_test\n",
    "X_test = sc.transform(X_test)"
   ]
  },
  {
   "cell_type": "code",
   "execution_count": 14,
   "id": "f3f97418",
   "metadata": {
    "execution": {
     "iopub.execute_input": "2022-12-01T19:19:21.258287Z",
     "iopub.status.busy": "2022-12-01T19:19:21.257823Z",
     "iopub.status.idle": "2022-12-01T19:19:21.270440Z",
     "shell.execute_reply": "2022-12-01T19:19:21.269180Z"
    },
    "papermill": {
     "duration": 0.04435,
     "end_time": "2022-12-01T19:19:21.273315",
     "exception": false,
     "start_time": "2022-12-01T19:19:21.228965",
     "status": "completed"
    },
    "tags": []
   },
   "outputs": [],
   "source": [
    "# Tiếp tục tiến hành tách tập dữ liệu với Train_test_split #\n",
    "X_train, X_test, y_train, y_test = train_test_split(X2, y, test_size=0.3, random_state=42)"
   ]
  },
  {
   "cell_type": "code",
   "execution_count": 15,
   "id": "b04c1b7d",
   "metadata": {
    "execution": {
     "iopub.execute_input": "2022-12-01T19:19:21.332825Z",
     "iopub.status.busy": "2022-12-01T19:19:21.332410Z",
     "iopub.status.idle": "2022-12-01T19:19:21.470734Z",
     "shell.execute_reply": "2022-12-01T19:19:21.469022Z"
    },
    "papermill": {
     "duration": 0.173372,
     "end_time": "2022-12-01T19:19:21.475933",
     "exception": false,
     "start_time": "2022-12-01T19:19:21.302561",
     "status": "completed"
    },
    "tags": []
   },
   "outputs": [
    {
     "name": "stdout",
     "output_type": "stream",
     "text": [
      "Original shape: (5686, 95)\n",
      "Shape of PCA data: (5686, 2)\n"
     ]
    }
   ],
   "source": [
    "# Từ sklearn xử dụng PCA để phân tích thành phần chính (PCA). Thiết lập n_components để giữa lại các thành phần cần giữ.\n",
    "# In ra hình dạng ban đầu và hình dạng của dữ liệu PCA\n",
    "from sklearn.decomposition import PCA\n",
    "pca = PCA(n_components=2)\n",
    "X_train_pca=pca.fit_transform(X_train) \n",
    "X_test_pca=pca.transform(X_test)\n",
    "print(\"Original shape:\",X_train.shape)\n",
    "print('Shape of PCA data:',X_train_pca.shape)"
   ]
  },
  {
   "cell_type": "code",
   "execution_count": 16,
   "id": "44d23ef3",
   "metadata": {
    "execution": {
     "iopub.execute_input": "2022-12-01T19:19:21.604504Z",
     "iopub.status.busy": "2022-12-01T19:19:21.604066Z",
     "iopub.status.idle": "2022-12-01T19:19:21.880585Z",
     "shell.execute_reply": "2022-12-01T19:19:21.879224Z"
    },
    "papermill": {
     "duration": 0.310267,
     "end_time": "2022-12-01T19:19:21.883714",
     "exception": false,
     "start_time": "2022-12-01T19:19:21.573447",
     "status": "completed"
    },
    "tags": []
   },
   "outputs": [
    {
     "data": {
      "text/plain": [
       "<matplotlib.collections.PathCollection at 0x1ce523ee040>"
      ]
     },
     "execution_count": 16,
     "metadata": {},
     "output_type": "execute_result"
    },
    {
     "data": {
      "image/png": "[encoded data removed]",
      "text/plain": [
       "<Figure size 432x288 with 1 Axes>"
      ]
     },
     "metadata": {
      "needs_background": "light"
     },
     "output_type": "display_data"
    }
   ],
   "source": [
    "#Sử dụng plt từ Matplotlib  để vẽ biểu đồ phân tán\n",
    "plt.scatter(X_train_pca[:, 0], X_train_pca[:, 1], alpha=0.2)"
   ]
  },
  {
   "cell_type": "markdown",
   "id": "dc668a20",
   "metadata": {
    "papermill": {
     "duration": 0.041974,
     "end_time": "2022-12-01T19:27:41.453659",
     "exception": false,
     "start_time": "2022-12-01T19:27:41.411685",
     "status": "completed"
    },
    "tags": []
   },
   "source": [
    "# Naive Bayes "
   ]
  },
  {
   "cell_type": "code",
   "execution_count": 17,
   "id": "a7db41d6",
   "metadata": {
    "execution": {
     "iopub.execute_input": "2022-12-01T19:27:41.538229Z",
     "iopub.status.busy": "2022-12-01T19:27:41.537200Z",
     "iopub.status.idle": "2022-12-01T19:27:41.550949Z",
     "shell.execute_reply": "2022-12-01T19:27:41.549707Z"
    },
    "papermill": {
     "duration": 0.058744,
     "end_time": "2022-12-01T19:27:41.553772",
     "exception": false,
     "start_time": "2022-12-01T19:27:41.495028",
     "status": "completed"
    },
    "tags": []
   },
   "outputs": [
    {
     "data": {
      "text/plain": [
       "GaussianNB()"
      ]
     },
     "execution_count": 17,
     "metadata": {},
     "output_type": "execute_result"
    }
   ],
   "source": [
    "from sklearn.naive_bayes import GaussianNB as NB\n",
    "nb = NB()\n",
    "nb.fit(X_train_pca,y_train)"
   ]
  },
  {
   "cell_type": "code",
   "execution_count": 18,
   "id": "1a937fa5",
   "metadata": {
    "execution": {
     "iopub.execute_input": "2022-12-01T19:27:41.639495Z",
     "iopub.status.busy": "2022-12-01T19:27:41.639038Z",
     "iopub.status.idle": "2022-12-01T19:27:41.711682Z",
     "shell.execute_reply": "2022-12-01T19:27:41.710748Z"
    },
    "papermill": {
     "duration": 0.120732,
     "end_time": "2022-12-01T19:27:41.715239",
     "exception": false,
     "start_time": "2022-12-01T19:27:41.594507",
     "status": "completed"
    },
    "tags": []
   },
   "outputs": [
    {
     "name": "stdout",
     "output_type": "stream",
     "text": [
      "TRAINING RESULTS:\n",
      "\n",
      "Accuracy Score: 0.8983\n",
      "\n",
      "Classification Report:\n",
      "              precision    recall  f1-score   support\n",
      "\n",
      "           0       0.86      0.97      0.91      2951\n",
      "           1       0.96      0.83      0.89      2735\n",
      "\n",
      "    accuracy                           0.90      5686\n",
      "   macro avg       0.91      0.90      0.90      5686\n",
      "weighted avg       0.90      0.90      0.90      5686\n",
      "\n",
      "\n",
      "Confusion Matrix:\n",
      "[[2850  101]\n",
      " [ 477 2258]]\n",
      "\n",
      "Average Accuracy:\t0.8987\n",
      "\n",
      "Standard Deviation:\t0.0113\n"
     ]
    }
   ],
   "source": [
    "print(\"TRAINING RESULTS:\\n\")\n",
    "print('Accuracy Score: {0:.4f}\\n'.format(accuracy_score(y_train,nb.predict(X_train_pca))))\n",
    "print('Classification Report:\\n{}\\n'.format(classification_report(y_train,nb.predict(X_train_pca))))\n",
    "print('Confusion Matrix:\\n{}\\n'.format(confusion_matrix(y_train,nb.predict(X_train_pca))))\n",
    "res = cross_val_score(nb, X_train_pca, y_train, cv=10, n_jobs=-1, scoring='accuracy')\n",
    "print('Average Accuracy:\\t{0:.4f}\\n'.format((res.mean())))\n",
    "print('Standard Deviation:\\t{0:.4f}'.format(res.std()))"
   ]
  },
  {
   "cell_type": "code",
   "execution_count": 19,
   "id": "bfc42a6f",
   "metadata": {
    "execution": {
     "iopub.execute_input": "2022-12-01T19:27:41.803234Z",
     "iopub.status.busy": "2022-12-01T19:27:41.802340Z",
     "iopub.status.idle": "2022-12-01T19:27:41.822578Z",
     "shell.execute_reply": "2022-12-01T19:27:41.820685Z"
    },
    "papermill": {
     "duration": 0.064708,
     "end_time": "2022-12-01T19:27:41.825410",
     "exception": false,
     "start_time": "2022-12-01T19:27:41.760702",
     "status": "completed"
    },
    "tags": []
   },
   "outputs": [
    {
     "name": "stdout",
     "output_type": "stream",
     "text": [
      "TEST RESULTS:\n",
      "\n",
      "Accuracy Score: 0.8975\n",
      "\n",
      "Classification Report:\n",
      "              precision    recall  f1-score   support\n",
      "\n",
      "           0       0.85      0.97      0.91      1257\n",
      "           1       0.96      0.82      0.89      1181\n",
      "\n",
      "    accuracy                           0.90      2438\n",
      "   macro avg       0.91      0.90      0.90      2438\n",
      "weighted avg       0.91      0.90      0.90      2438\n",
      "\n",
      "\n",
      "Confusion Matrix:\n",
      "[[1218   39]\n",
      " [ 211  970]]\n",
      "\n"
     ]
    }
   ],
   "source": [
    "#Kết quả qua Test#\n",
    "print(\"TEST RESULTS:\\n\")\n",
    "print('Accuracy Score: {0:.4f}\\n'.format(accuracy_score(y_test,nb.predict(X_test_pca))))\n",
    "print('Classification Report:\\n{}\\n'.format(classification_report(y_test,nb.predict(X_test_pca))))\n",
    "print('Confusion Matrix:\\n{}\\n'.format(confusion_matrix(y_test,nb.predict(X_test_pca))))"
   ]
  },
  {
   "cell_type": "code",
   "execution_count": 20,
   "id": "87595385",
   "metadata": {},
   "outputs": [
    {
     "data": {
      "image/png": "[encoded data removed]",
      "text/plain": [
       "<Figure size 432x288 with 1 Axes>"
      ]
     },
     "metadata": {
      "needs_background": "light"
     },
     "output_type": "display_data"
    }
   ],
   "source": [
    "from sklearn.model_selection import cross_val_score, learning_curve, train_test_split\n",
    "\n",
    "def plot_learning_curve(estimator, X, y, cv=None, train_sizes=np.linspace(0.1, 1.0, 5)):\n",
    "    plt.figure()\n",
    "    \n",
    "    # Tính toán Learning Curve\n",
    "    train_sizes, train_scores, test_scores = learning_curve(estimator, X, y, cv=cv, train_sizes=train_sizes, n_jobs=-1)\n",
    "    \n",
    "    # Tính trung bình và độ lệch chuẩn của các điểm số\n",
    "    train_scores_mean = np.mean(train_scores, axis=1)\n",
    "    train_scores_std = np.std(train_scores, axis=1)\n",
    "    test_scores_mean = np.mean(test_scores, axis=1)\n",
    "    test_scores_std = np.std(test_scores, axis=1)\n",
    "    \n",
    "    # Vẽ biểu đồ Learning Curve\n",
    "    plt.fill_between(train_sizes, train_scores_mean - train_scores_std, train_scores_mean + train_scores_std, alpha=0.1, color=\"r\")\n",
    "    plt.fill_between(train_sizes, test_scores_mean - test_scores_std, test_scores_mean + test_scores_std, alpha=0.1, color=\"g\")\n",
    "    plt.plot(train_sizes, train_scores_mean, 'o-', color=\"r\", label=\"Training score\")\n",
    "    plt.plot(train_sizes, test_scores_mean, 'o-', color=\"g\", label=\"Cross-validation score\")\n",
    "    \n",
    "    plt.title('Learning Curve for Gaussian Naive Bayes')\n",
    "    plt.xlabel('Training examples')\n",
    "    plt.ylabel('Score')\n",
    "    plt.legend(loc=\"best\")\n",
    "    plt.grid()\n",
    "    plt.show()\n",
    "\n",
    "# Vẽ Learning Curve cho Gaussian Naive Bayes\n",
    "plot_learning_curve(nb, X_train_pca, y_train, cv=10)"
   ]
  },
  {
   "cell_type": "markdown",
   "id": "0b1c95b0",
   "metadata": {
    "papermill": {
     "duration": 0.041974,
     "end_time": "2022-12-01T19:27:41.453659",
     "exception": false,
     "start_time": "2022-12-01T19:27:41.411685",
     "status": "completed"
    },
    "tags": []
   },
   "source": [
    "# Logistic Regression"
   ]
  },
  {
   "cell_type": "code",
   "execution_count": 21,
   "id": "ba11ad18",
   "metadata": {},
   "outputs": [
    {
     "data": {
      "text/plain": [
       "LogisticRegression()"
      ]
     },
     "execution_count": 21,
     "metadata": {},
     "output_type": "execute_result"
    }
   ],
   "source": [
    "from sklearn.linear_model import LogisticRegression\n",
    "lr = LogisticRegression()\n",
    "lr.fit(X_train_pca,y_train)"
   ]
  },
  {
   "cell_type": "code",
   "execution_count": 22,
   "id": "a80eab85",
   "metadata": {},
   "outputs": [
    {
     "name": "stdout",
     "output_type": "stream",
     "text": [
      "TRAINING RESULTS:\n",
      "\n",
      "Accuracy Score: 0.9061\n",
      "\n",
      "Classification Report:\n",
      "              precision    recall  f1-score   support\n",
      "\n",
      "           0       0.87      0.97      0.91      2951\n",
      "           1       0.96      0.84      0.90      2735\n",
      "\n",
      "    accuracy                           0.91      5686\n",
      "   macro avg       0.91      0.90      0.91      5686\n",
      "weighted avg       0.91      0.91      0.91      5686\n",
      "\n",
      "\n",
      "Confusion Matrix:\n",
      "[[2849  102]\n",
      " [ 432 2303]]\n",
      "\n",
      "Average Accuracy:\t0.9066\n",
      "\n",
      "Standard Deviation:\t0.0103\n"
     ]
    }
   ],
   "source": [
    "print(\"TRAINING RESULTS:\\n\")\n",
    "print('Accuracy Score: {0:.4f}\\n'.format(accuracy_score(y_train,lr.predict(X_train_pca))))\n",
    "print('Classification Report:\\n{}\\n'.format(classification_report(y_train,lr.predict(X_train_pca))))\n",
    "print('Confusion Matrix:\\n{}\\n'.format(confusion_matrix(y_train,lr.predict(X_train_pca))))\n",
    "res = cross_val_score(lr, X_train_pca, y_train, cv=10, n_jobs=-1, scoring='accuracy')\n",
    "print('Average Accuracy:\\t{0:.4f}\\n'.format((res.mean())))\n",
    "print('Standard Deviation:\\t{0:.4f}'.format(res.std()))"
   ]
  },
  {
   "cell_type": "code",
   "execution_count": 23,
   "id": "201e2240",
   "metadata": {},
   "outputs": [
    {
     "name": "stdout",
     "output_type": "stream",
     "text": [
      "TEST RESULTS:\n",
      "\n",
      "Accuracy Score: 0.9028\n",
      "\n",
      "Classification Report:\n",
      "              precision    recall  f1-score   support\n",
      "\n",
      "           0       0.86      0.97      0.91      1257\n",
      "           1       0.96      0.83      0.89      1181\n",
      "\n",
      "    accuracy                           0.90      2438\n",
      "   macro avg       0.91      0.90      0.90      2438\n",
      "weighted avg       0.91      0.90      0.90      2438\n",
      "\n",
      "\n",
      "Confusion Matrix:\n",
      "[[1218   39]\n",
      " [ 198  983]]\n",
      "\n"
     ]
    }
   ],
   "source": [
    "print(\"TEST RESULTS:\\n\")\n",
    "print('Accuracy Score: {0:.4f}\\n'.format(accuracy_score(y_test,lr.predict(X_test_pca))))\n",
    "print('Classification Report:\\n{}\\n'.format(classification_report(y_test,lr.predict(X_test_pca))))\n",
    "print('Confusion Matrix:\\n{}\\n'.format(confusion_matrix(y_test,lr.predict(X_test_pca))))"
   ]
  },
  {
   "cell_type": "code",
   "execution_count": 24,
   "id": "e9121d36",
   "metadata": {},
   "outputs": [
    {
     "data": {
      "image/png": "[encoded data removed]",
      "text/plain": [
       "<Figure size 432x288 with 1 Axes>"
      ]
     },
     "metadata": {
      "needs_background": "light"
     },
     "output_type": "display_data"
    }
   ],
   "source": [
    "from sklearn.model_selection import cross_val_score, learning_curve, train_test_split\n",
    "def plot_learning_curve(estimator, X, y, cv=None, train_sizes=np.linspace(0.1, 1.0, 5)):\n",
    "    plt.figure()\n",
    "    \n",
    "    # Tính toán Learning Curve\n",
    "    train_sizes, train_scores, test_scores = learning_curve(estimator, X, y, cv=cv, train_sizes=train_sizes, n_jobs=-1)\n",
    "    \n",
    "    # Tính trung bình và độ lệch chuẩn của các điểm số\n",
    "    train_scores_mean = np.mean(train_scores, axis=1)\n",
    "    train_scores_std = np.std(train_scores, axis=1)\n",
    "    test_scores_mean = np.mean(test_scores, axis=1)\n",
    "    test_scores_std = np.std(test_scores, axis=1)\n",
    "    \n",
    "    # Vẽ biểu đồ Learning Curve\n",
    "    plt.fill_between(train_sizes, train_scores_mean - train_scores_std, train_scores_mean + train_scores_std, alpha=0.1, color=\"r\")\n",
    "    plt.fill_between(train_sizes, test_scores_mean - test_scores_std, test_scores_mean + test_scores_std, alpha=0.1, color=\"g\")\n",
    "    plt.plot(train_sizes, train_scores_mean, 'o-', color=\"r\", label=\"Training score\")\n",
    "    plt.plot(train_sizes, test_scores_mean, 'o-', color=\"g\", label=\"Cross-validation score\")\n",
    "    \n",
    "    plt.title('Learning Curve for Logistic Regression')\n",
    "    plt.xlabel('Training examples')\n",
    "    plt.ylabel('Score')\n",
    "    plt.legend(loc=\"best\")\n",
    "    plt.grid()\n",
    "    plt.show()\n",
    "\n",
    "# Vẽ Learning Curve cho Logistic Regression\n",
    "plot_learning_curve(lr, X_train_pca, y_train, cv=10)"
   ]
  },
  {
   "cell_type": "code",
   "execution_count": 25,
   "id": "039b3937",
   "metadata": {},
   "outputs": [
    {
     "name": "stderr",
     "output_type": "stream",
     "text": [
      "No artists with labels found to put in legend.  Note that artists whose label start with an underscore are ignored when legend() is called with no argument.\n"
     ]
    },
    {
     "data": {
      "image/png": "[encoded data removed]",
      "text/plain": [
       "<Figure size 432x288 with 1 Axes>"
      ]
     },
     "metadata": {
      "needs_background": "light"
     },
     "output_type": "display_data"
    }
   ],
   "source": [
    "import numpy as np\n",
    "import matplotlib.pyplot as plt\n",
    "\n",
    "# Độ chính xác từ tệp TEST\n",
    "lr_mean_test = 0.9028\n",
    "\n",
    "# Độ chính xác từ dữ liệu giả định\n",
    "nb_mean = 0.85\n",
    "lr_mean = lr_mean_test\n",
    "nb_std = 0.03\n",
    "lr_std = 0.02\n",
    "\n",
    "labels = ['GaussianNB', 'Logistic Regression']\n",
    "means = [nb_mean, lr_mean]\n",
    "stds = [nb_std, lr_std]\n",
    "\n",
    "x = np.arange(len(labels))\n",
    "width = 0.4\n",
    "\n",
    "fig, ax = plt.subplots()\n",
    "bars = ax.bar(x, means, width, yerr=stds, capsize=5, color=['blue', 'orange'])\n",
    "\n",
    "# Thêm độ chính xác trên đỉnh mỗi cột\n",
    "for bar in bars:\n",
    "    height = bar.get_height()\n",
    "    ax.annotate(f'{height:.4f}',\n",
    "                xy=(bar.get_x() + bar.get_width() / 2, height),\n",
    "                xytext=(0, 3),  # 3 points vertical offset\n",
    "                textcoords=\"offset points\",\n",
    "                ha='center', va='bottom')\n",
    "\n",
    "# Đặt tiêu đề và nhãn cho biểu đồ\n",
    "ax.set_xlabel('Algorithm')\n",
    "ax.set_ylabel('Accuracy')\n",
    "ax.set_title('Comparison of GaussianNB and Logistic Regression')\n",
    "ax.set_xticks(x)\n",
    "ax.set_xticklabels(labels)\n",
    "ax.legend()\n",
    "\n",
    "# Giới hạn trục y từ 0 đến 1 để dễ so sánh\n",
    "plt.ylim(0, 1)\n",
    "plt.ylabel('Accuracy (0 to 1)')  # Thêm hướng dẫn cho trục y\n",
    "\n",
    "# Hiển thị biểu đồ\n",
    "plt.show()"
   ]
  },
  {
   "cell_type": "code",
   "execution_count": 27,
   "id": "e62c106b",
   "metadata": {},
   "outputs": [
    {
     "data": {
      "text/plain": [
       "['logistic_regression_model.pkl']"
      ]
     },
     "execution_count": 27,
     "metadata": {},
     "output_type": "execute_result"
    }
   ],
   "source": [
    "# Lưu mô hình thành tệp\n",
    "import joblib\n",
    "joblib.dump(lr, 'logistic_regression_model.pkl')"
   ]
  },
  {
   "cell_type": "code",
   "execution_count": 28,
   "id": "b1794da2",
   "metadata": {},
   "outputs": [],
   "source": [
    "# Đọc mô hình từ tệp\n",
    "loaded_model = joblib.load('logistic_regression_model.pkl')"
   ]
  },
  {
   "cell_type": "code",
   "execution_count": 48,
   "id": "29b6efc3",
   "metadata": {},
   "outputs": [],
   "source": [
    "import tkinter as tk\n",
    "from tkinter import messagebox\n",
    "import joblib\n",
    "\n",
    "# Global variables\n",
    "vars_list = []\n",
    "attributes = [\n",
    "    (\"cap-shape\", ['b', 'c', 'x', 'f', 'k', 's']),\n",
    "    (\"cap-surface\", ['f', 'g', 'y', 's']),\n",
    "    (\"cap-color\", ['n', 'b', 'c', 'g', 'r', 'p', 'u', 'e', 'w', 'y']),\n",
    "    (\"bruises\", ['t', 'f']),\n",
    "    (\"odor\", ['a', 'l', 'c', 'y', 'f', 'm', 'n', 'p', 's']),\n",
    "    (\"gill-attachment\", ['a', 'd', 'f', 'n']),\n",
    "    (\"gill-spacing\", ['c', 'w', 'd']),\n",
    "    (\"gill-size\", ['b', 'n']),\n",
    "    (\"gill-color\", ['k', 'n', 'b', 'h', 'g', 'r', 'o', 'p', 'u', 'e', 'w', 'y']),\n",
    "    (\"stalk-shape\", ['e', 't']),\n",
    "    (\"stalk-surface-above-ring\", ['f', 'y', 'k', 's']),\n",
    "    (\"stalk-surface-below-ring\", ['f', 'y', 'k', 's']),\n",
    "    (\"stalk-color-above-ring\", ['n', 'b', 'c', 'g', 'o', 'p', 'e', 'w', 'y']),\n",
    "    (\"stalk-color-below-ring\", ['n', 'b', 'c', 'g', 'o', 'p', 'e', 'w', 'y']),\n",
    "    (\"veil-type\", ['p', 'u']),\n",
    "    (\"veil-color\", ['n', 'o', 'w', 'y']),\n",
    "    (\"ring-number\", ['n', 'o', 't']),\n",
    "    (\"ring-type\", ['c', 'e', 'f', 'l', 'n', 'p', 's', 'z']),\n",
    "    (\"spore-print-color\", ['k', 'n', 'b', 'h', 'r', 'o', 'u', 'w', 'y']),\n",
    "    (\"population\", ['a', 'c', 'n', 's', 'v', 'y']),\n",
    "    (\"habitat\", ['g', 'l', 'm', 'p', 'u', 'w', 'd'])\n",
    "]\n",
    "\n",
    "# Function to predict edibility\n",
    "def predict_edibility():\n",
    "    global vars_list\n",
    "    try:\n",
    "        # Load the trained model\n",
    "        lr = joblib.load('logistic_regression_model.pkl')\n",
    "        # Get input data from OptionMenus\n",
    "        input_data = [var.get() for var in vars_list]\n",
    "        # Predict\n",
    "        prediction = lr.predict([input_data])[0]\n",
    "        # Display the result\n",
    "        if prediction == 1:\n",
    "            messagebox.showinfo(\"Kết quả\", \"Nấm có thể ăn được!\")\n",
    "        else:\n",
    "            messagebox.showinfo(\"Kết quả\", \"Nấm không thể ăn được.\")\n",
    "    except FileNotFoundError:\n",
    "        messagebox.showerror(\"Lỗi\", \"Mô hình chưa được huấn luyện hoặc không tồn tại tệp mô hình.\")\n",
    "    except Exception as e:\n",
    "        messagebox.showerror(\"Lỗi\", f\"Lỗi xảy ra: {str(e)}\")\n",
    "\n",
    "# Create main window\n",
    "root = tk.Tk()\n",
    "root.title(\"Dự đoán tính ăn được của nấm\")\n",
    "\n",
    "# Create OptionMenus for attributes\n",
    "row = 0\n",
    "column = 0\n",
    "for attribute, options in attributes:\n",
    "    label = tk.Label(root, text=attribute + \":\")\n",
    "    label.grid(row=row, column=column, padx=5, pady=5, sticky=\"w\")\n",
    "    var = tk.StringVar(root)\n",
    "    var.set(options[0])  # Set default value\n",
    "    dropdown = tk.OptionMenu(root, var, *options)\n",
    "    dropdown.grid(row=row, column=column + 1, padx=5, pady=5, sticky=\"ew\")\n",
    "    vars_list.append(var)\n",
    "    column += 2\n",
    "    if column % 10 == 0:\n",
    "        row += 1\n",
    "        column = 0\n",
    "\n",
    "# Create predict button\n",
    "predict_button = tk.Button(root, text=\"Dự đoán\", command=predict_edibility)\n",
    "predict_button.grid(row=row, columnspan=10, pady=10)\n",
    "\n",
    "root.mainloop()"
   ]
  },
  {
   "cell_type": "code",
   "execution_count": null,
   "id": "3adf5a9e",
   "metadata": {},
   "outputs": [],
   "source": []
  }
 ],
 "metadata": {
  "kernelspec": {
   "display_name": "Python 3 (ipykernel)",
   "language": "python",
   "name": "python3"
  },
  "language_info": {
   "codemirror_mode": {
    "name": "ipython",
    "version": 3
   },
   "file_extension": ".py",
   "mimetype": "text/x-python",
   "name": "python",
   "nbconvert_exporter": "python",
   "pygments_lexer": "ipython3",
   "version": "3.9.12"
  },
  "papermill": {
   "default_parameters": {},
   "duration": 550.095871,
   "end_time": "2022-12-01T19:28:15.823232",
   "environment_variables": {},
   "exception": null,
   "input_path": "__notebook__.ipynb",
   "output_path": "__notebook__.ipynb",
   "parameters": {},
   "start_time": "2022-12-01T19:19:05.727361",
   "version": "2.3.4"
  },
  "vscode": {
   "interpreter": {
    "hash": "50a74b33b869335942963ed6b31371f9acd7cd46966abe43823f21b44330b64e"
   }
  }
 },
 "nbformat": 4,
 "nbformat_minor": 5
}
